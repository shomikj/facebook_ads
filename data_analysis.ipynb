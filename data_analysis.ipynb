{
 "cells": [
  {
   "cell_type": "code",
   "execution_count": 1,
   "id": "9a87fbb4",
   "metadata": {},
   "outputs": [],
   "source": [
    "import pandas as pd\n",
    "import numpy as np\n",
    "import matplotlib.pyplot as plt"
   ]
  },
  {
   "cell_type": "code",
   "execution_count": 39,
   "id": "ffc6127e",
   "metadata": {},
   "outputs": [
    {
     "name": "stderr",
     "output_type": "stream",
     "text": [
      "/var/folders/6w/yt_9nm1s5ngbsytz47vfxfjh0000gn/T/ipykernel_6362/387389473.py:1: DtypeWarning: Columns (18,26,27,28,29,30,31,32,33,35,36,37,38,39,40,41,42,52,58) have mixed types. Specify dtype option on import or set low_memory=False.\n",
      "  df = pd.read_csv('fb_data_clean.csv')\n"
     ]
    }
   ],
   "source": [
    "df = pd.read_csv('fb_data_clean.csv')"
   ]
  },
  {
   "cell_type": "code",
   "execution_count": 3,
   "id": "cf9fcc89",
   "metadata": {},
   "outputs": [
    {
     "data": {
      "text/plain": [
       "candidate       168849\n",
       "party           131260\n",
       "og_superPAC      41453\n",
       "og_hybridPAC     38918\n",
       "og_irs501(c)     23435\n",
       "og_corp          19036\n",
       "og_PAC            7093\n",
       "Name: adv_type, dtype: int64"
      ]
     },
     "execution_count": 3,
     "metadata": {},
     "output_type": "execute_result"
    }
   ],
   "source": [
    "df[\"adv_type\"].value_counts()"
   ]
  },
  {
   "cell_type": "code",
   "execution_count": 6,
   "id": "74a15320",
   "metadata": {},
   "outputs": [
    {
     "data": {
      "text/plain": [
       "Index(['archive_id', 'ad_creative_body', 'ad_creation_time',\n",
       "       'ad_delivery_start_time', 'ad_delivery_stop_time', 'page_id',\n",
       "       'funding_entity', 'min_spend', 'max_spend', 'min_impressions',\n",
       "       'max_impressions', 'page_name', 'sent_neg', 'sent_neu', 'sent_pos',\n",
       "       'sent_comp', 'ad_numStates', 'ad_targetStates', 'ad_microtargeted',\n",
       "       'impressions_range', 'impressions_avg', 'sent_rank', 'fec_id',\n",
       "       'fec_name', 'fec_code', 'fec_state', 'fec_cand_id', 'fec_cand_name',\n",
       "       'fec_cand_party', 'fec_cand_status', 'crp_name', 'crp_code',\n",
       "       'crp_disclosure', 'crp_viewpoint', 'crp_spending', 'irs_name',\n",
       "       'irs_ein', 'irs_state', 'irs_type', 'corp_name', 'corp_id',\n",
       "       'corp_state', 'corp_type', 'adv_type', 'adv_id', 'adv_count',\n",
       "       'adv_count_row', 'adv_numStates', 'adv_targetStates', 'adv_viewpoint',\n",
       "       'adv_mentionsCand', 'adv_federal', 'adv_transparent', 'registered_2016',\n",
       "       'registered_2020', 'adv_disappeared', 'ad_text', 'sentiment',\n",
       "       'adv_disclosure'],\n",
       "      dtype='object')"
      ]
     },
     "execution_count": 6,
     "metadata": {},
     "output_type": "execute_result"
    }
   ],
   "source": [
    "df.columns"
   ]
  },
  {
   "cell_type": "code",
   "execution_count": 8,
   "id": "fe2845e2",
   "metadata": {},
   "outputs": [
    {
     "data": {
      "text/plain": [
       "candidate       884\n",
       "og_superPAC     125\n",
       "party           101\n",
       "og_irs501(c)     83\n",
       "og_PAC           36\n",
       "og_hybridPAC     25\n",
       "og_corp          23\n",
       "Name: adv_type, dtype: int64"
      ]
     },
     "execution_count": 8,
     "metadata": {},
     "output_type": "execute_result"
    }
   ],
   "source": [
    "adv = df[[\"adv_transparent\", \"adv_disappeared\", \"adv_type\", \"adv_id\"]].drop_duplicates()\n",
    "adv[\"adv_type\"].value_counts()"
   ]
  },
  {
   "cell_type": "code",
   "execution_count": 9,
   "id": "c3451655",
   "metadata": {},
   "outputs": [
    {
     "data": {
      "text/plain": [
       "292"
      ]
     },
     "execution_count": 9,
     "metadata": {},
     "output_type": "execute_result"
    }
   ],
   "source": [
    "125+83+36+25+23"
   ]
  },
  {
   "cell_type": "code",
   "execution_count": 10,
   "id": "6960bdd9",
   "metadata": {},
   "outputs": [
    {
     "data": {
      "text/plain": [
       "1277"
      ]
     },
     "execution_count": 10,
     "metadata": {},
     "output_type": "execute_result"
    }
   ],
   "source": [
    "len(df[\"adv_id\"].unique())"
   ]
  },
  {
   "cell_type": "code",
   "execution_count": 11,
   "id": "225616b7",
   "metadata": {},
   "outputs": [
    {
     "data": {
      "text/plain": [
       "1277"
      ]
     },
     "execution_count": 11,
     "metadata": {},
     "output_type": "execute_result"
    }
   ],
   "source": [
    "292+884+101"
   ]
  },
  {
   "cell_type": "code",
   "execution_count": 40,
   "id": "3d0dbfe0",
   "metadata": {},
   "outputs": [
    {
     "name": "stdout",
     "output_type": "stream",
     "text": [
      "candidate 0.4557003275115637 0.5130452181692522\n",
      "party 0.25680122733506017 0.38009391928103675\n",
      "og_irs501(c) 0.129713906550032 0.5670258278252058\n",
      "og_PAC 0.2874713379388129 0.4565298928435877\n",
      "og_superPAC 0.11381657057390297 0.4540431221826641\n",
      "og_hybridPAC 0.06798038439796496 0.450590196380701\n",
      "og_corp 0.029842451145198592 0.5765301605370615\n"
     ]
    }
   ],
   "source": [
    "for a in df[\"adv_type\"].unique():\n",
    "    curr = df[df[\"adv_type\"]==a]\n",
    "    print(a, np.mean(curr[\"sentiment\"]), np.std(curr[\"sentiment\"]))"
   ]
  },
  {
   "cell_type": "code",
   "execution_count": 55,
   "id": "96495c49",
   "metadata": {},
   "outputs": [],
   "source": [
    "cand = df[df[\"adv_type\"].isin([\"candidate\"])]\n",
    "party = df[df[\"adv_type\"].isin([\"party\"])]\n",
    "\n",
    "PAC = df[df[\"adv_type\"]==\"og_PAC\"]\n",
    "hybridPAC = df[df[\"adv_type\"]==\"og_hybridPAC\"]\n",
    "superPAC = df[df[\"adv_type\"]==\"og_superPAC\"]\n",
    "irs501c = df[df[\"adv_type\"]==\"og_irs501(c)\"]\n",
    "corp = df[df[\"adv_type\"]==\"og_corp\"]"
   ]
  },
  {
   "cell_type": "code",
   "execution_count": 42,
   "id": "634708a7",
   "metadata": {},
   "outputs": [
    {
     "name": "stdout",
     "output_type": "stream",
     "text": [
      "0.05857550995148036 0.5726516148664554\n",
      "0.3112981891348089 0.4792209625876747\n",
      "\n",
      "36.37241311020893\n",
      "19.400073912864944\n"
     ]
    }
   ],
   "source": [
    "dark = df[df[\"adv_disclosure\"]=='n']\n",
    "transparent = df[df[\"adv_disclosure\"]!='n']\n",
    "\n",
    "print(np.mean(dark[\"sentiment\"]), np.std(dark[\"sentiment\"]))\n",
    "print(np.mean(transparent[\"sentiment\"]), np.std(transparent[\"sentiment\"]))\n",
    "print()\n",
    "\n",
    "print(100*len(dark[dark[\"sentiment\"]<-0.05])/len(dark))\n",
    "print(100*len(transparent[transparent[\"sentiment\"]<-0.05])/len(transparent))"
   ]
  },
  {
   "cell_type": "code",
   "execution_count": 43,
   "id": "a7659ddd",
   "metadata": {},
   "outputs": [
    {
     "name": "stdout",
     "output_type": "stream",
     "text": [
      "0.05182148998445076 0.588713033712455\n",
      "0.30018718402265676 0.4854952379033437\n",
      "\n",
      "37.61547608158785\n",
      "20.473665900660986\n"
     ]
    }
   ],
   "source": [
    "disappear = df[(df[\"adv_disappeared\"]==True)]\n",
    "persistant = df[(df[\"adv_disappeared\"]==False)]\n",
    "\n",
    "print(np.mean(disappear[\"sentiment\"]), np.std(disappear[\"sentiment\"]))\n",
    "print(np.mean(persistant[\"sentiment\"]), np.std(persistant[\"sentiment\"]))\n",
    "\n",
    "print()\n",
    "print(100*len(disappear[disappear[\"sentiment\"]<0])/len(disappear))\n",
    "print(100*len(persistant[persistant[\"sentiment\"]<0])/len(persistant))"
   ]
  },
  {
   "cell_type": "code",
   "execution_count": 83,
   "id": "db30207e",
   "metadata": {},
   "outputs": [],
   "source": [
    "dark_disappear = df[(df[\"adv_disclosure\"]=='n')&(df[\"adv_disappeared\"]==True)]\n",
    "dark_persistant = df[(df[\"adv_disclosure\"]=='n')&(df[\"adv_disappeared\"]==False)]\n",
    "transparent_disappear = df[(df[\"adv_disclosure\"]!='n')&(df[\"adv_disappeared\"]==True)]\n",
    "transparent_persistant = df[(df[\"adv_disclosure\"]!='n')&(df[\"adv_disappeared\"]==False)]\n"
   ]
  },
  {
   "cell_type": "code",
   "execution_count": 91,
   "id": "f9d7657f",
   "metadata": {},
   "outputs": [],
   "source": [
    "liberal = df[df[\"adv_viewpoint\"]==\"liberal\"]\n",
    "conservative = df[df[\"adv_viewpoint\"]==\"conservative\"]"
   ]
  },
  {
   "cell_type": "code",
   "execution_count": 90,
   "id": "e8e2d6f2",
   "metadata": {},
   "outputs": [
    {
     "data": {
      "text/plain": [
       "liberal         232129\n",
       "conservative    193686\n",
       "Name: adv_viewpoint, dtype: int64"
      ]
     },
     "execution_count": 90,
     "metadata": {},
     "output_type": "execute_result"
    }
   ],
   "source": [
    "df[\"adv_viewpoint\"].value_counts()"
   ]
  },
  {
   "cell_type": "code",
   "execution_count": 47,
   "id": "cb962d05",
   "metadata": {},
   "outputs": [
    {
     "data": {
      "text/plain": [
       "0.9785054422390926"
      ]
     },
     "execution_count": 47,
     "metadata": {},
     "output_type": "execute_result"
    }
   ],
   "source": [
    "(18018+3378) / len(disappear)"
   ]
  },
  {
   "cell_type": "code",
   "execution_count": 48,
   "id": "85165d8a",
   "metadata": {},
   "outputs": [
    {
     "data": {
      "text/plain": [
       "(0.7088, 0.0)"
      ]
     },
     "execution_count": 48,
     "metadata": {},
     "output_type": "execute_result"
    }
   ],
   "source": [
    "quartiles = df[\"sentiment\"].quantile([0.25, 0.75])\n",
    "quartiles[0.75], quartiles[0.25]"
   ]
  },
  {
   "cell_type": "code",
   "execution_count": 49,
   "id": "d8f9394e",
   "metadata": {},
   "outputs": [
    {
     "data": {
      "text/plain": [
       "0.21345257694561487"
      ]
     },
     "execution_count": 49,
     "metadata": {},
     "output_type": "execute_result"
    }
   ],
   "source": [
    "len(df[df[\"sentiment\"]<0])/len(df)"
   ]
  },
  {
   "cell_type": "code",
   "execution_count": 50,
   "id": "6769ebe8",
   "metadata": {},
   "outputs": [],
   "source": [
    "def formatFloat(val, fmt=\"%.2f\"):\n",
    "    ret = fmt % val\n",
    "    if ret.startswith(\"0.\"):\n",
    "        return ret[1:]\n",
    "    if ret.startswith(\"-0.\"):\n",
    "        return \"-\" + ret[2:]\n",
    "    return ret"
   ]
  },
  {
   "cell_type": "code",
   "execution_count": 51,
   "id": "4ff55447",
   "metadata": {},
   "outputs": [
    {
     "data": {
      "text/plain": [
       "y    26531\n",
       "p    14070\n",
       "n      852\n",
       "Name: adv_disclosure, dtype: int64"
      ]
     },
     "execution_count": 51,
     "metadata": {},
     "output_type": "execute_result"
    }
   ],
   "source": [
    "superPAC[\"adv_disclosure\"].value_counts()"
   ]
  },
  {
   "cell_type": "code",
   "execution_count": 52,
   "id": "f4e3e9ef",
   "metadata": {},
   "outputs": [
    {
     "data": {
      "text/plain": [
       "y    38352\n",
       "p      566\n",
       "Name: adv_disclosure, dtype: int64"
      ]
     },
     "execution_count": 52,
     "metadata": {},
     "output_type": "execute_result"
    }
   ],
   "source": [
    "hybridPAC[\"adv_disclosure\"].value_counts()"
   ]
  },
  {
   "cell_type": "code",
   "execution_count": 93,
   "id": "8574f4ef",
   "metadata": {},
   "outputs": [
    {
     "data": {
      "text/plain": [
       "(193686, 505)"
      ]
     },
     "execution_count": 93,
     "metadata": {},
     "output_type": "execute_result"
    }
   ],
   "source": [
    "len(conservative), len(conservative[\"adv_id\"].unique())"
   ]
  },
  {
   "cell_type": "code",
   "execution_count": 63,
   "id": "56faf694",
   "metadata": {},
   "outputs": [
    {
     "name": "stderr",
     "output_type": "stream",
     "text": [
      "posx and posy should be finite values\n",
      "posx and posy should be finite values\n",
      "posx and posy should be finite values\n",
      "posx and posy should be finite values\n",
      "posx and posy should be finite values\n",
      "posx and posy should be finite values\n",
      "posx and posy should be finite values\n",
      "posx and posy should be finite values\n",
      "posx and posy should be finite values\n",
      "posx and posy should be finite values\n",
      "posx and posy should be finite values\n",
      "posx and posy should be finite values\n",
      "posx and posy should be finite values\n",
      "posx and posy should be finite values\n",
      "posx and posy should be finite values\n",
      "posx and posy should be finite values\n",
      "posx and posy should be finite values\n",
      "posx and posy should be finite values\n",
      "posx and posy should be finite values\n",
      "posx and posy should be finite values\n",
      "posx and posy should be finite values\n",
      "posx and posy should be finite values\n",
      "posx and posy should be finite values\n",
      "posx and posy should be finite values\n"
     ]
    },
    {
     "data": {
      "image/png": "[encoded data removed]",
      "text/plain": [
       "<Figure size 800x400 with 1 Axes>"
      ]
     },
     "metadata": {},
     "output_type": "display_data"
    }
   ],
   "source": [
    "groups = ['Disclosed', 'Dark Money',\n",
    "          'Persistent', 'Disappeared',\n",
    "          'Candidates', 'Parties', 'PACs', 'Hybrid PACs', 'Super PACs', '501(c) Orgs', 'Corporations'][::-1]\n",
    "plt.rcParams[\"figure.figsize\"] = [8,4]\n",
    "\n",
    "fig, ax = plt.subplots()\n",
    "\n",
    "plot_data = [transparent['sentiment'], dark['sentiment'], [], \n",
    "             persistant['sentiment'],disappear['sentiment'], [], \n",
    "             cand['sentiment'], party['sentiment'], \n",
    "             PAC['sentiment'], hybridPAC['sentiment'], superPAC['sentiment'], irs501c['sentiment'], corp['sentiment']][::-1]\n",
    "\n",
    "med = dict(linewidth=0, color='k')\n",
    "mean = {\"marker\":\"s\",\"markeredgecolor\":'#B22222',\"markerfacecolor\":'#B22222', 'markersize':2.5}\n",
    "\n",
    "bp_dict = ax.boxplot(plot_data,notch=False,vert=False,showfliers=False, widths=0.25, medianprops=med, showmeans=True, meanprops=mean)\n",
    "\n",
    "ax.set_yticks([1,2,3,4,5,6,7,9,10,12,13])\n",
    "ax.set_yticklabels(groups, fontsize=8)\n",
    "\n",
    "saved = []\n",
    "for line in bp_dict['boxes']:\n",
    "    x_left,y_left = line.get_xydata()[1] # lower quartile\n",
    "    x_right,y_right = line.get_xydata()[2] # upper quartile\n",
    "    saved.append(y_left)\n",
    "    ax.text(x_left, y_left+0.12, formatFloat(round(x_left,2)), horizontalalignment='center', fontsize=9, color='k')\n",
    "    ax.text(x_right, y_right+0.12, formatFloat(round(x_right,2)), horizontalalignment='center', fontsize=9, color='k')\n",
    "\n",
    "for i,line in enumerate(bp_dict['means']):\n",
    "    # get position data for median line\n",
    "    x, y = line.get_xydata()[0] # top of median line\n",
    "    # overlay median value\n",
    "    ax.text(x, saved[i]+0.12, formatFloat(round(x,2)),\n",
    "         horizontalalignment='center', fontsize=9, color='#B22222', weight=\"bold\") # draw above, centered\n",
    "\n",
    "perc = ['390K ads, 1201 adv', '40K ads, 76 adv','',\n",
    "        '408K ads, 1209 adv', '22K ads, 68 adv', '', \n",
    "        '169K$', '$n=131K$', '$n=7K$', '$n=39K$', '$n=41K$', '$n=23K$', '19K ads, 25 adv'][::-1]\n",
    "for i in range(1,14):\n",
    "    if i==0:\n",
    "            ax.text(-0.835, i+0.15, perc[i-1],\n",
    "     horizontalalignment='center', fontsize=9, color='#00008B') # draw above, centered\n",
    "    else:\n",
    "        ax.text(-0.835, i+0.15, perc[i-1],\n",
    "         horizontalalignment='center', fontsize=9, color='#00008B') # draw above, centered\n",
    "\n",
    "\n",
    "'''\n",
    "for line in bp_dict['medians']:\n",
    "    # get position data for median line\n",
    "    x, y = line.get_xydata()[0] # top of median line\n",
    "    # overlay median value\n",
    "    ax.text(x, y+0.45, formatFloat(x),\n",
    "         horizontalalignment='center', fontsize=8) # draw above, centered\n",
    "'''\n",
    "plt.text(-1.09,-1.05,'Negative', fontsize=9)\n",
    "plt.text(.93,-1.05,'Positive', fontsize=9)\n",
    "\n",
    "ax.annotate('', xy=(0.05, -0.105), xycoords='axes fraction', xytext=(0.45, -0.105), arrowprops=dict(arrowstyle=\"->\", color='k'))\n",
    "ax.annotate('', xy=(0.55, -0.105), xycoords='axes fraction', xytext=(0.95, -0.105), arrowprops=dict(arrowstyle=\"<-\", color='k'))\n",
    "\n",
    "    \n",
    "ax.tick_params(axis='both', labelsize=9)\n",
    "plt.xlim([-1.01,1.01])\n",
    "plt.ylim([0.5,13.8])\n",
    "plt.xlabel('Sentiment', fontsize=9)\n",
    "#plt.show()\n",
    "fig.tight_layout()\n",
    "plt.savefig('sent_box_main.pdf', format='pdf', dpi=1000)"
   ]
  },
  {
   "cell_type": "code",
   "execution_count": null,
   "id": "a8708ba1",
   "metadata": {},
   "outputs": [],
   "source": []
  }
 ],
 "metadata": {
  "kernelspec": {
   "display_name": "Python 3 (ipykernel)",
   "language": "python",
   "name": "python3"
  },
  "language_info": {
   "codemirror_mode": {
    "name": "ipython",
    "version": 3
   },
   "file_extension": ".py",
   "mimetype": "text/x-python",
   "name": "python",
   "nbconvert_exporter": "python",
   "pygments_lexer": "ipython3",
   "version": "3.10.9"
  }
 },
 "nbformat": 4,
 "nbformat_minor": 5
}
